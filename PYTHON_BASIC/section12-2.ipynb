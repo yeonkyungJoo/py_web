{
 "cells": [
  {
   "cell_type": "code",
   "execution_count": null,
   "metadata": {},
   "outputs": [],
   "source": [
    "# 테이블 조회"
   ]
  },
  {
   "cell_type": "code",
   "execution_count": 1,
   "metadata": {},
   "outputs": [],
   "source": [
    "import sqlite3"
   ]
  },
  {
   "cell_type": "code",
   "execution_count": 11,
   "metadata": {},
   "outputs": [
    {
     "data": {
      "text/plain": [
       "<sqlite3.Cursor at 0x1a95208ca40>"
      ]
     },
     "execution_count": 11,
     "metadata": {},
     "output_type": "execute_result"
    }
   ],
   "source": [
    "# DB 파일 조회(없으면 새로 생성)\n",
    "conn = sqlite3.connect('C:/study/git/py_web/PYTHON_BASIC/resource/database.db')\n",
    "\n",
    "# 커서 바인딩\n",
    "c = conn.cursor()\n",
    "\n",
    "# 데이터 조회(전체)\n",
    "c.execute(\"SELECT * FROM users\")"
   ]
  },
  {
   "cell_type": "code",
   "execution_count": 3,
   "metadata": {},
   "outputs": [
    {
     "name": "stdout",
     "output_type": "stream",
     "text": [
      "One -> \n",
      " (1, 'Kim', 'Kim@naver.com', '010-000-0000', 'Kim.com', '2019-12-14 22:41:52')\n"
     ]
    }
   ],
   "source": [
    "# 커서 위치가 변경\n",
    "# 1개 로우 선택\n",
    "# print('One -> \\n', c.fetchone())"
   ]
  },
  {
   "cell_type": "code",
   "execution_count": 4,
   "metadata": {},
   "outputs": [
    {
     "name": "stdout",
     "output_type": "stream",
     "text": [
      "Three -> \n",
      " [(2, 'Park', 'Park@daum.net', '010-1111-1111', 'Park.com', '2019-12-14 22:41:52'), (3, 'Lee', 'Lee@naver.com', '010-2222-2222', 'Lee.com', '2019-12-14 22:41:52'), (4, 'Cho', 'Cho@daum.net', '010-3333-3333', 'Cho.com', '2019-12-14 22:41:52')]\n"
     ]
    }
   ],
   "source": [
    "# 지정 로우 선택\n",
    "# print('Three -> \\n', c.fetchmany(size=3))"
   ]
  },
  {
   "cell_type": "code",
   "execution_count": 5,
   "metadata": {},
   "outputs": [
    {
     "name": "stdout",
     "output_type": "stream",
     "text": [
      "All -> \n",
      " [(5, 'Yoo', 'Yoo@google.com', '010-4444-4444', 'Yoo.net', '2019-12-14 22:41:52')]\n"
     ]
    }
   ],
   "source": [
    "# print('All -> \\n', c.fetchall())"
   ]
  },
  {
   "cell_type": "code",
   "execution_count": 6,
   "metadata": {},
   "outputs": [
    {
     "name": "stdout",
     "output_type": "stream",
     "text": [
      "All -> \n",
      " []\n"
     ]
    }
   ],
   "source": [
    "# print('All -> \\n', c.fetchall())"
   ]
  },
  {
   "cell_type": "code",
   "execution_count": null,
   "metadata": {},
   "outputs": [],
   "source": [
    "# 커서가 이동하면서 다음 데이터의 위치를 기억"
   ]
  },
  {
   "cell_type": "code",
   "execution_count": 9,
   "metadata": {},
   "outputs": [
    {
     "name": "stdout",
     "output_type": "stream",
     "text": [
      "(1, 'Kim', 'Kim@naver.com', '010-000-0000', 'Kim.com', '2019-12-14 22:41:52')\n",
      "(2, 'Park', 'Park@daum.net', '010-1111-1111', 'Park.com', '2019-12-14 22:41:52')\n",
      "(3, 'Lee', 'Lee@naver.com', '010-2222-2222', 'Lee.com', '2019-12-14 22:41:52')\n",
      "(4, 'Cho', 'Cho@daum.net', '010-3333-3333', 'Cho.com', '2019-12-14 22:41:52')\n",
      "(5, 'Yoo', 'Yoo@google.com', '010-4444-4444', 'Yoo.net', '2019-12-14 22:41:52')\n"
     ]
    }
   ],
   "source": [
    "# 순회1\n",
    "rows = c.fetchall()\n",
    "for row in rows :\n",
    "    print(row)"
   ]
  },
  {
   "cell_type": "code",
   "execution_count": 12,
   "metadata": {},
   "outputs": [
    {
     "name": "stdout",
     "output_type": "stream",
     "text": [
      "(1, 'Kim', 'Kim@naver.com', '010-000-0000', 'Kim.com', '2019-12-14 22:41:52')\n",
      "(2, 'Park', 'Park@daum.net', '010-1111-1111', 'Park.com', '2019-12-14 22:41:52')\n",
      "(3, 'Lee', 'Lee@naver.com', '010-2222-2222', 'Lee.com', '2019-12-14 22:41:52')\n",
      "(4, 'Cho', 'Cho@daum.net', '010-3333-3333', 'Cho.com', '2019-12-14 22:41:52')\n",
      "(5, 'Yoo', 'Yoo@google.com', '010-4444-4444', 'Yoo.net', '2019-12-14 22:41:52')\n"
     ]
    }
   ],
   "source": [
    "# 순회2\n",
    "for row in c.fetchall() :\n",
    "    print(row)"
   ]
  },
  {
   "cell_type": "code",
   "execution_count": 15,
   "metadata": {},
   "outputs": [
    {
     "name": "stdout",
     "output_type": "stream",
     "text": [
      "(5, 'Yoo', 'Yoo@google.com', '010-4444-4444', 'Yoo.net', '2019-12-14 22:41:52')\n",
      "(4, 'Cho', 'Cho@daum.net', '010-3333-3333', 'Cho.com', '2019-12-14 22:41:52')\n",
      "(3, 'Lee', 'Lee@naver.com', '010-2222-2222', 'Lee.com', '2019-12-14 22:41:52')\n",
      "(2, 'Park', 'Park@daum.net', '010-1111-1111', 'Park.com', '2019-12-14 22:41:52')\n",
      "(1, 'Kim', 'Kim@naver.com', '010-000-0000', 'Kim.com', '2019-12-14 22:41:52')\n"
     ]
    }
   ],
   "source": [
    "# 순회3\n",
    "for row in c.execute(\"SELECT * FROM users ORDER BY id desc\") :\n",
    "    print(row)"
   ]
  },
  {
   "cell_type": "code",
   "execution_count": null,
   "metadata": {},
   "outputs": [],
   "source": []
  },
  {
   "cell_type": "code",
   "execution_count": null,
   "metadata": {},
   "outputs": [],
   "source": [
    "# WHERE"
   ]
  },
  {
   "cell_type": "code",
   "execution_count": 17,
   "metadata": {},
   "outputs": [
    {
     "name": "stdout",
     "output_type": "stream",
     "text": [
      "(3, 'Lee', 'Lee@naver.com', '010-2222-2222', 'Lee.com', '2019-12-14 22:41:52')\n",
      "[]\n"
     ]
    }
   ],
   "source": [
    "# retrieve1 (튜플 바인딩)\n",
    "param1 = (3, )\n",
    "c.execute(\"SELECT * FROM users WHERE id = ?\", param1)\n",
    "print(c.fetchone())\n",
    "print(c.fetchall()) # 데이터 없음"
   ]
  },
  {
   "cell_type": "code",
   "execution_count": 18,
   "metadata": {},
   "outputs": [
    {
     "name": "stdout",
     "output_type": "stream",
     "text": [
      "(4, 'Cho', 'Cho@daum.net', '010-3333-3333', 'Cho.com', '2019-12-14 22:41:52')\n",
      "[]\n"
     ]
    }
   ],
   "source": [
    "# retrieve2 (정수형으로 바인딩)\n",
    "param2 = 4\n",
    "c.execute(\"SELECT * FROM users WHERE id = '%s'\" % param2)\n",
    "print(c.fetchone())\n",
    "print(c.fetchall())"
   ]
  },
  {
   "cell_type": "code",
   "execution_count": 19,
   "metadata": {},
   "outputs": [
    {
     "name": "stdout",
     "output_type": "stream",
     "text": [
      "(5, 'Yoo', 'Yoo@google.com', '010-4444-4444', 'Yoo.net', '2019-12-14 22:41:52')\n",
      "[]\n"
     ]
    }
   ],
   "source": [
    "# retrieve3 (딕셔너리)\n",
    "c.execute(\"SELECT * FROM users WHERE id =:Id\", {\"Id\" : 5})\n",
    "print(c.fetchone())\n",
    "print(c.fetchall())"
   ]
  },
  {
   "cell_type": "code",
   "execution_count": 20,
   "metadata": {},
   "outputs": [
    {
     "name": "stdout",
     "output_type": "stream",
     "text": [
      "[(3, 'Lee', 'Lee@naver.com', '010-2222-2222', 'Lee.com', '2019-12-14 22:41:52'), (5, 'Yoo', 'Yoo@google.com', '010-4444-4444', 'Yoo.net', '2019-12-14 22:41:52')]\n"
     ]
    }
   ],
   "source": [
    "# retrieve4\n",
    "param4 = (3, 5)\n",
    "c.execute(\"SELECT * FROM users WHERE id IN(?, ?)\", param4)\n",
    "print(c.fetchall())"
   ]
  },
  {
   "cell_type": "code",
   "execution_count": 22,
   "metadata": {},
   "outputs": [
    {
     "name": "stdout",
     "output_type": "stream",
     "text": [
      "[(3, 'Lee', 'Lee@naver.com', '010-2222-2222', 'Lee.com', '2019-12-14 22:41:52'), (4, 'Cho', 'Cho@daum.net', '010-3333-3333', 'Cho.com', '2019-12-14 22:41:52')]\n"
     ]
    }
   ],
   "source": [
    "# retrieve5\n",
    "c.execute(\"SELECT * FROM users WHERE id IN('%d', '%d')\"% (3, 4))\n",
    "print(c.fetchall())"
   ]
  },
  {
   "cell_type": "code",
   "execution_count": 23,
   "metadata": {},
   "outputs": [
    {
     "name": "stdout",
     "output_type": "stream",
     "text": [
      "[(2, 'Park', 'Park@daum.net', '010-1111-1111', 'Park.com', '2019-12-14 22:41:52'), (5, 'Yoo', 'Yoo@google.com', '010-4444-4444', 'Yoo.net', '2019-12-14 22:41:52')]\n"
     ]
    }
   ],
   "source": [
    "# retrieve6\n",
    "c.execute(\"SELECT * FROM users WHERE id=:id1 OR id =:id2\", {\"id1\" : 2, \"id2\" : 5})\n",
    "print(c.fetchall())"
   ]
  },
  {
   "cell_type": "code",
   "execution_count": null,
   "metadata": {},
   "outputs": [],
   "source": []
  },
  {
   "cell_type": "code",
   "execution_count": 24,
   "metadata": {},
   "outputs": [
    {
     "name": "stdout",
     "output_type": "stream",
     "text": [
      "Dump Print Complete\n"
     ]
    }
   ],
   "source": [
    "# dump 출력\n",
    "with conn :\n",
    "    with open('C:/study/git/py_web/PYTHON_BASIC/resource/dump.sql', 'w') as f :\n",
    "        for line in conn.iterdump() :\n",
    "            f.write('%s\\n' % line)\n",
    "        print('Dump Print Complete')"
   ]
  },
  {
   "cell_type": "code",
   "execution_count": null,
   "metadata": {},
   "outputs": [],
   "source": []
  }
 ],
 "metadata": {
  "kernelspec": {
   "display_name": "Python 3",
   "language": "python",
   "name": "python3"
  },
  "language_info": {
   "codemirror_mode": {
    "name": "ipython",
    "version": 3
   },
   "file_extension": ".py",
   "mimetype": "text/x-python",
   "name": "python",
   "nbconvert_exporter": "python",
   "pygments_lexer": "ipython3",
   "version": "3.7.4"
  }
 },
 "nbformat": 4,
 "nbformat_minor": 2
}
