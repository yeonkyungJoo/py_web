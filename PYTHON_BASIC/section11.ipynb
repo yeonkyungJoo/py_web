{
 "cells": [
  {
   "cell_type": "code",
   "execution_count": 1,
   "metadata": {},
   "outputs": [],
   "source": [
    "import csv"
   ]
  },
  {
   "cell_type": "code",
   "execution_count": 9,
   "metadata": {},
   "outputs": [],
   "source": [
    "# 예제4\n",
    "w = [[1, 2, 3], [4, 5, 6], [7, 8, 9], [10, 11, 12], [13, 14, 15], [16, 17, 18]]\n",
    "\n",
    "# for arr in w :\n",
    "#     for n in arr :\n",
    "#         print(n, end=' ')\n",
    "#     print('')    \n",
    "    \n",
    "with open('./resource/sample3.csv', 'w', newline = '') as f:\n",
    "    wt = csv.writer(f)\n",
    "    \n",
    "    for v in w :\n",
    "        wt.writerow(v)"
   ]
  },
  {
   "cell_type": "code",
   "execution_count": 10,
   "metadata": {},
   "outputs": [],
   "source": [
    "# 예제5\n",
    "with open('./resource/sample4.csv', 'w', newline = '') as f :\n",
    "    wt = csv.writer(f)\n",
    "    wt.writerows(w)"
   ]
  },
  {
   "cell_type": "code",
   "execution_count": null,
   "metadata": {},
   "outputs": [],
   "source": []
  },
  {
   "cell_type": "code",
   "execution_count": null,
   "metadata": {},
   "outputs": [],
   "source": [
    "# XSL, XLSX\n",
    "# openpyxl, xlsxwriter, xlrd, xlwt, xlutils\n",
    "# pandas를 주로 사용\n",
    "# pip install xlrd\n",
    "# pip install openpyxl\n",
    "# pip install pandas"
   ]
  },
  {
   "cell_type": "code",
   "execution_count": 11,
   "metadata": {},
   "outputs": [],
   "source": [
    "import pandas as pd"
   ]
  },
  {
   "cell_type": "code",
   "execution_count": 17,
   "metadata": {},
   "outputs": [
    {
     "name": "stdout",
     "output_type": "stream",
     "text": [
      "(20, 7)\n"
     ]
    }
   ],
   "source": [
    "# sheetname = '시트명' 또는 숫자\n",
    "# header = 숫자 \n",
    "# skiprow = 숫자\n",
    "xlsx = pd.read_excel('./resource/sample.xlsx')\n",
    "\n",
    "# print(xlsx.head())\n",
    "# print(xlsx.tail())\n",
    "# xlsx.head()\n",
    "print(xlsx.shape)"
   ]
  },
  {
   "cell_type": "code",
   "execution_count": 18,
   "metadata": {},
   "outputs": [],
   "source": [
    "# 엑셀 or csv로 다시 쓰기\n",
    "xlsx.to_excel('./resource/result.xlsx', index = False)\n",
    "xlsx.to_csv('./resource/result.csv', index = False)"
   ]
  },
  {
   "cell_type": "code",
   "execution_count": null,
   "metadata": {},
   "outputs": [],
   "source": []
  }
 ],
 "metadata": {
  "kernelspec": {
   "display_name": "Python 3",
   "language": "python",
   "name": "python3"
  },
  "language_info": {
   "codemirror_mode": {
    "name": "ipython",
    "version": 3
   },
   "file_extension": ".py",
   "mimetype": "text/x-python",
   "name": "python",
   "nbconvert_exporter": "python",
   "pygments_lexer": "ipython3",
   "version": "3.7.4"
  }
 },
 "nbformat": 4,
 "nbformat_minor": 2
}
