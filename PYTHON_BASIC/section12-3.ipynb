{
 "cells": [
  {
   "cell_type": "code",
   "execution_count": null,
   "metadata": {},
   "outputs": [],
   "source": [
    "# 테이블 데이터 수정 및 삭제"
   ]
  },
  {
   "cell_type": "code",
   "execution_count": 1,
   "metadata": {},
   "outputs": [],
   "source": [
    "import sqlite3"
   ]
  },
  {
   "cell_type": "code",
   "execution_count": 2,
   "metadata": {},
   "outputs": [],
   "source": [
    "# DB 생성\n",
    "conn = sqlite3.connect('C:/study/git/py_web/PYTHON_BASIC/resource/database.db')"
   ]
  },
  {
   "cell_type": "code",
   "execution_count": 3,
   "metadata": {},
   "outputs": [],
   "source": [
    "# Cursor 연결\n",
    "c = conn.cursor()"
   ]
  },
  {
   "cell_type": "code",
   "execution_count": 4,
   "metadata": {},
   "outputs": [],
   "source": [
    "# 데이터 수정1\n",
    "c.execute(\"UPDATE users SET username = ? WHERE id = ?\", ('niceman', 2))\n",
    "conn.commit()"
   ]
  },
  {
   "cell_type": "code",
   "execution_count": 5,
   "metadata": {},
   "outputs": [],
   "source": [
    "# 데이터 수정2 (딕셔너리)\n",
    "c.execute(\"UPDATE users SET username = :name WHERE id = :id\", {\"name\" : 'goodman', \"id\" : 5})\n",
    "conn.commit()"
   ]
  },
  {
   "cell_type": "code",
   "execution_count": 6,
   "metadata": {},
   "outputs": [],
   "source": [
    "# 데이터 수정3\n",
    "c.execute(\"UPDATE users SET username = '%s' WHERE id = '%s'\" % ('badboy', 3))\n",
    "conn.commit()"
   ]
  },
  {
   "cell_type": "code",
   "execution_count": 7,
   "metadata": {},
   "outputs": [
    {
     "name": "stdout",
     "output_type": "stream",
     "text": [
      "(1, 'Kim', 'Kim@naver.com', '010-000-0000', 'Kim.com', '2019-12-14 22:41:52')\n",
      "(2, 'niceman', 'Park@daum.net', '010-1111-1111', 'Park.com', '2019-12-14 22:41:52')\n",
      "(3, 'badboy', 'Lee@naver.com', '010-2222-2222', 'Lee.com', '2019-12-14 22:41:52')\n",
      "(4, 'Cho', 'Cho@daum.net', '010-3333-3333', 'Cho.com', '2019-12-14 22:41:52')\n",
      "(5, 'goodman', 'Yoo@google.com', '010-4444-4444', 'Yoo.net', '2019-12-14 22:41:52')\n"
     ]
    }
   ],
   "source": [
    "# 중간 데이터 확인\n",
    "for user in c.execute(\"SELECT * FROM users\") :\n",
    "    print(user)"
   ]
  },
  {
   "cell_type": "code",
   "execution_count": null,
   "metadata": {},
   "outputs": [],
   "source": []
  },
  {
   "cell_type": "code",
   "execution_count": 8,
   "metadata": {},
   "outputs": [],
   "source": [
    "# row delete1\n",
    "c.execute(\"DELETE FROM users WHERE id = ?\", (2, ))\n",
    "conn.commit()"
   ]
  },
  {
   "cell_type": "code",
   "execution_count": 9,
   "metadata": {},
   "outputs": [],
   "source": [
    "# row delete2\n",
    "c.execute(\"DELETE FROM users WHERE id = :id\", {\"id\" : 5})\n",
    "conn.commit()"
   ]
  },
  {
   "cell_type": "code",
   "execution_count": 16,
   "metadata": {},
   "outputs": [],
   "source": [
    "# row delete3\n",
    "# c.execute(\"DELETE FROM users WHERE id = '%s'\" % 4)\n",
    "# conn.commit()"
   ]
  },
  {
   "cell_type": "code",
   "execution_count": 17,
   "metadata": {},
   "outputs": [
    {
     "name": "stdout",
     "output_type": "stream",
     "text": [
      "(1, 'Kim', 'Kim@naver.com', '010-000-0000', 'Kim.com', '2019-12-14 22:41:52')\n",
      "(3, 'badboy', 'Lee@naver.com', '010-2222-2222', 'Lee.com', '2019-12-14 22:41:52')\n",
      "(4, 'Cho', 'Cho@daum.net', '010-3333-3333', 'Cho.com', '2019-12-14 22:41:52')\n"
     ]
    }
   ],
   "source": [
    "for user in c.execute(\"SELECT * FROM users\") :\n",
    "    print(user)"
   ]
  },
  {
   "cell_type": "code",
   "execution_count": null,
   "metadata": {},
   "outputs": [],
   "source": []
  },
  {
   "cell_type": "code",
   "execution_count": 20,
   "metadata": {},
   "outputs": [],
   "source": [
    "# 테이블 전체 데이터 삭제\n",
    "# conn.execute(\"DELETE FROM users\")\n",
    "# conn.commit()"
   ]
  },
  {
   "cell_type": "code",
   "execution_count": 21,
   "metadata": {},
   "outputs": [],
   "source": [
    "conn.close()"
   ]
  }
 ],
 "metadata": {
  "kernelspec": {
   "display_name": "Python 3",
   "language": "python",
   "name": "python3"
  },
  "language_info": {
   "codemirror_mode": {
    "name": "ipython",
    "version": 3
   },
   "file_extension": ".py",
   "mimetype": "text/x-python",
   "name": "python",
   "nbconvert_exporter": "python",
   "pygments_lexer": "ipython3",
   "version": "3.7.4"
  }
 },
 "nbformat": 4,
 "nbformat_minor": 2
}
