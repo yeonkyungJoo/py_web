{
 "cells": [
  {
   "cell_type": "code",
   "execution_count": null,
   "metadata": {},
   "outputs": [],
   "source": [
    "# 파이썬 데이터베이스 연동(SQLite)\n",
    "# SQLite : 비교적 가벼운 DB 관리 시스템\n",
    "\n",
    "# 테이블 생성 및 삽입"
   ]
  },
  {
   "cell_type": "code",
   "execution_count": 1,
   "metadata": {},
   "outputs": [],
   "source": [
    "import sqlite3"
   ]
  },
  {
   "cell_type": "code",
   "execution_count": 3,
   "metadata": {},
   "outputs": [
    {
     "name": "stdout",
     "output_type": "stream",
     "text": [
      "2.6.0\n",
      "3.30.0\n"
     ]
    }
   ],
   "source": [
    "print(sqlite3.version)\n",
    "print(sqlite3.sqlite_version)"
   ]
  },
  {
   "cell_type": "code",
   "execution_count": 4,
   "metadata": {},
   "outputs": [],
   "source": [
    "import datetime"
   ]
  },
  {
   "cell_type": "code",
   "execution_count": 7,
   "metadata": {},
   "outputs": [
    {
     "name": "stdout",
     "output_type": "stream",
     "text": [
      "2019-12-14 22:41:52.760787\n",
      "2019-12-14 22:41:52\n"
     ]
    }
   ],
   "source": [
    "# 삽입 날짜 생성\n",
    "now = datetime.datetime.now()\n",
    "print(now)\n",
    "\n",
    "nowDatetime = now.strftime('%Y-%m-%d %H:%M:%S')\n",
    "print(nowDatetime)"
   ]
  },
  {
   "cell_type": "code",
   "execution_count": null,
   "metadata": {},
   "outputs": [],
   "source": [
    "# SQLiteDatabaseBrowserPortable_3.10.1_English.paf 설치"
   ]
  },
  {
   "cell_type": "code",
   "execution_count": 8,
   "metadata": {},
   "outputs": [],
   "source": [
    "# DB 생성 & Auto Commit/Rollback\n",
    "conn = sqlite3.connect('C:/study/git/py_web/PYTHON_BASIC/resource/database.db', isolation_level = None)"
   ]
  },
  {
   "cell_type": "code",
   "execution_count": 9,
   "metadata": {},
   "outputs": [
    {
     "name": "stdout",
     "output_type": "stream",
     "text": [
      "<class 'sqlite3.Cursor'>\n"
     ]
    }
   ],
   "source": [
    "# Cursor\n",
    "c = conn.cursor()\n",
    "print(type(c))"
   ]
  },
  {
   "cell_type": "code",
   "execution_count": 15,
   "metadata": {},
   "outputs": [
    {
     "data": {
      "text/plain": [
       "<sqlite3.Cursor at 0x292296337a0>"
      ]
     },
     "execution_count": 15,
     "metadata": {},
     "output_type": "execute_result"
    }
   ],
   "source": [
    "# 테이블 생성\n",
    "# Data type : TEXT, NUMERIC, INTEGER, REAL BLOB\n",
    "# id INTEGER PRIMARY KEY\n",
    "# username text\n",
    "# email text\n",
    "# phone text\n",
    "# website text\n",
    "# regdate text\n",
    "c.execute(\"CREATE TABLE IF NOT EXISTS users(id INTEGER PRIMARY KEY, username text, email text, phone text, website text, regdate text)\")"
   ]
  },
  {
   "cell_type": "code",
   "execution_count": 16,
   "metadata": {},
   "outputs": [
    {
     "data": {
      "text/plain": [
       "<sqlite3.Cursor at 0x292296337a0>"
      ]
     },
     "execution_count": 16,
     "metadata": {},
     "output_type": "execute_result"
    }
   ],
   "source": [
    "# 데이터 삽입\n",
    "c.execute(\"INSERT INTO users VALUES(1, 'Kim', 'Kim@naver.com', '010-000-0000', 'Kim.com', ?)\", (nowDatetime, ))"
   ]
  },
  {
   "cell_type": "code",
   "execution_count": 17,
   "metadata": {},
   "outputs": [
    {
     "data": {
      "text/plain": [
       "<sqlite3.Cursor at 0x292296337a0>"
      ]
     },
     "execution_count": 17,
     "metadata": {},
     "output_type": "execute_result"
    }
   ],
   "source": [
    "c.execute(\"INSERT INTO users(id, username, email, phone, website, regdate) VALUES (?, ?, ?, ?, ?, ?)\", (2, 'Park', 'Park@daum.net', '010-1111-1111', 'Park.com', nowDatetime))"
   ]
  },
  {
   "cell_type": "code",
   "execution_count": 18,
   "metadata": {},
   "outputs": [
    {
     "data": {
      "text/plain": [
       "<sqlite3.Cursor at 0x292296337a0>"
      ]
     },
     "execution_count": 18,
     "metadata": {},
     "output_type": "execute_result"
    }
   ],
   "source": [
    "# Many 삽입\n",
    "# 튜플, 리스트\n",
    "userList = (\n",
    "    (3, 'Lee', 'Lee@naver.com', '010-2222-2222', 'Lee.com', nowDatetime), \n",
    "    (4, 'Cho', 'Cho@daum.net', '010-3333-3333', 'Cho.com', nowDatetime), \n",
    "    (5, 'Yoo', 'Yoo@google.com', '010-4444-4444', 'Yoo.net', nowDatetime)\n",
    ")\n",
    "\n",
    "c.executemany(\"INSERT INTO users(id, username, email, phone, website, regdate) VALUES (?, ?, ?, ?, ?, ?)\", userList)"
   ]
  },
  {
   "cell_type": "code",
   "execution_count": 14,
   "metadata": {},
   "outputs": [
    {
     "name": "stdout",
     "output_type": "stream",
     "text": [
      "users db deleted :  5\n"
     ]
    }
   ],
   "source": [
    "# 테이블 데이터 삭제\n",
    "# conn.execute(\"DELETE FROM users\")\n",
    "# print('users db deleted : ', conn.execute(\"DELETE FROM users\").rowcount)"
   ]
  },
  {
   "cell_type": "code",
   "execution_count": null,
   "metadata": {},
   "outputs": [],
   "source": []
  },
  {
   "cell_type": "code",
   "execution_count": null,
   "metadata": {},
   "outputs": [],
   "source": [
    "# 커밋\n",
    "# isloation_level = None인 경우 자동 반영(오토 커밋)\n",
    "# conn.commit()\n",
    "\n",
    "# 롤백\n",
    "# conn.rollback()"
   ]
  },
  {
   "cell_type": "code",
   "execution_count": 19,
   "metadata": {},
   "outputs": [],
   "source": [
    "# 접속 해제\n",
    "conn.close()"
   ]
  }
 ],
 "metadata": {
  "kernelspec": {
   "display_name": "Python 3",
   "language": "python",
   "name": "python3"
  },
  "language_info": {
   "codemirror_mode": {
    "name": "ipython",
    "version": 3
   },
   "file_extension": ".py",
   "mimetype": "text/x-python",
   "name": "python",
   "nbconvert_exporter": "python",
   "pygments_lexer": "ipython3",
   "version": "3.7.4"
  }
 },
 "nbformat": 4,
 "nbformat_minor": 2
}
