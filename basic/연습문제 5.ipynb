{
 "cells": [
  {
   "cell_type": "markdown",
   "metadata": {},
   "source": [
    "### 문자열 압축하기"
   ]
  },
  {
   "cell_type": "code",
   "execution_count": 22,
   "metadata": {},
   "outputs": [],
   "source": [
    "# Q1\n",
    "s = 'aaabbcccccca'\n",
    "s_cnt = []\n",
    "for i in s :\n",
    "    cnt = 1\n",
    "    if not s_cnt :\n",
    "        s_cnt.append(i)\n",
    "        s_cnt.append(cnt)\n",
    "    else : \n",
    "        if i == s_cnt[-2] :\n",
    "            s_cnt[-1] += 1\n",
    "        else :\n",
    "            s_cnt.append(i)\n",
    "            s_cnt.append(cnt)"
   ]
  },
  {
   "cell_type": "code",
   "execution_count": 23,
   "metadata": {},
   "outputs": [
    {
     "data": {
      "text/plain": [
       "['a', 3, 'b', 2, 'c', 6, 'a', 1]"
      ]
     },
     "execution_count": 23,
     "metadata": {},
     "output_type": "execute_result"
    }
   ],
   "source": [
    "s_cnt"
   ]
  },
  {
   "cell_type": "code",
   "execution_count": 26,
   "metadata": {},
   "outputs": [],
   "source": [
    "s_cnt = list(map(lambda x : str(x), s_cnt))"
   ]
  },
  {
   "cell_type": "code",
   "execution_count": 27,
   "metadata": {},
   "outputs": [
    {
     "data": {
      "text/plain": [
       "'a3b2c6a1'"
      ]
     },
     "execution_count": 27,
     "metadata": {},
     "output_type": "execute_result"
    }
   ],
   "source": [
    "''.join(s_cnt)"
   ]
  },
  {
   "cell_type": "markdown",
   "metadata": {},
   "source": [
    "### Duplicate Numbers"
   ]
  },
  {
   "cell_type": "code",
   "execution_count": 30,
   "metadata": {},
   "outputs": [
    {
     "name": "stdout",
     "output_type": "stream",
     "text": [
      "True\n",
      "True\n",
      "False\n",
      "True\n",
      "False\n"
     ]
    }
   ],
   "source": [
    "# Q1\n",
    "s = '0123456789 01234 01234567890 6789012345 012322456789'\n",
    "\n",
    "for i in s.split(' ') :\n",
    "    print(len(set(i)) == len(i))"
   ]
  },
  {
   "cell_type": "markdown",
   "metadata": {},
   "source": [
    "### 모스 부호 해독"
   ]
  },
  {
   "cell_type": "code",
   "execution_count": 56,
   "metadata": {},
   "outputs": [
    {
     "name": "stdout",
     "output_type": "stream",
     "text": [
      "['H', 'E', ' ', 'S', 'L', 'E', 'E', 'P', 'S', ' ', 'E', 'A', 'R', 'L', 'Y']\n",
      "HE SLEEPS EARLY\n"
     ]
    }
   ],
   "source": [
    "# Q1\n",
    "\n",
    "mos = {\n",
    "    '.-' : 'A',\n",
    "    '-...' : 'B',\n",
    "    '-.-.' : 'C',\n",
    "    '-..' : 'D',\n",
    "    '.' : 'E',\n",
    "    '..-.' : 'F',\n",
    "    '--.' : 'G',\n",
    "    '....' : 'H',\n",
    "    '..' : 'I',\n",
    "    '.---' : 'J',\n",
    "    '-.-' : 'K',\n",
    "    '.-..' : 'L',\n",
    "    '--' : 'M',\n",
    "    '-.' : 'N',\n",
    "    '---' : 'O',\n",
    "    '.--.' : 'P',\n",
    "    '--.-' : 'Q',\n",
    "    '.-.' : 'R',\n",
    "    '...' : 'S',\n",
    "    '-' : 'T',\n",
    "    '..-' : 'U',\n",
    "    '...-' : 'V',\n",
    "    '.--' : 'W',\n",
    "    '-..-' : 'X',\n",
    "    '-.--' : 'Y',\n",
    "    '--..' : 'Z',    \n",
    "}\n",
    "\n",
    "s = '.... .  ... .-.. . . .--. ...  . .- .-. .-.. -.--'\n",
    "\n",
    "result = []\n",
    "for i in s.split(' ') :\n",
    "    # print(i)\n",
    "    if i == '' :\n",
    "        result.append(' ')\n",
    "    else : \n",
    "        result.append(mos[i])\n",
    "\n",
    "print(result)\n",
    "print(''.join(result))"
   ]
  }
 ],
 "metadata": {
  "kernelspec": {
   "display_name": "Python 3",
   "language": "python",
   "name": "python3"
  },
  "language_info": {
   "codemirror_mode": {
    "name": "ipython",
    "version": 3
   },
   "file_extension": ".py",
   "mimetype": "text/x-python",
   "name": "python",
   "nbconvert_exporter": "python",
   "pygments_lexer": "ipython3",
   "version": "3.7.4"
  }
 },
 "nbformat": 4,
 "nbformat_minor": 2
}
