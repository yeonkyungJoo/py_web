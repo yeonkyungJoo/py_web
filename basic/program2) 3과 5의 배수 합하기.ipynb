{
 "cells": [
  {
   "cell_type": "code",
   "execution_count": null,
   "metadata": {},
   "outputs": [],
   "source": [
    "'''\n",
    "10 미만의 자연수에서 3과 5의 배수를 구하면 3, 5, 6, 7이다.\n",
    "이들의 총합은 23이다.\n",
    "1000 미만의 자연수에서 3의 배수와 5의 배수의 총합을 구하라\n",
    "'''"
   ]
  },
  {
   "cell_type": "code",
   "execution_count": 4,
   "metadata": {},
   "outputs": [
    {
     "name": "stdout",
     "output_type": "stream",
     "text": [
      "233168\n"
     ]
    }
   ],
   "source": [
    "numbers = []\n",
    "total = 0\n",
    "for n in range(1, 1000) :\n",
    "    if (n % 3 == 0) or (n % 5 == 0) :\n",
    "        numbers.append(n)\n",
    "        total += n\n",
    "        \n",
    "print(total)"
   ]
  },
  {
   "cell_type": "code",
   "execution_count": null,
   "metadata": {},
   "outputs": [],
   "source": []
  }
 ],
 "metadata": {
  "kernelspec": {
   "display_name": "Python 3",
   "language": "python",
   "name": "python3"
  },
  "language_info": {
   "codemirror_mode": {
    "name": "ipython",
    "version": 3
   },
   "file_extension": ".py",
   "mimetype": "text/x-python",
   "name": "python",
   "nbconvert_exporter": "python",
   "pygments_lexer": "ipython3",
   "version": "3.7.4"
  }
 },
 "nbformat": 4,
 "nbformat_minor": 2
}
