{
 "cells": [
  {
   "cell_type": "code",
   "execution_count": null,
   "metadata": {},
   "outputs": [],
   "source": [
    "'''\n",
    "원하는 메모를 파일에 저장하고 추가 및 조회가 가능한 간단한 메모장 만들기\n",
    "\n",
    "python memo.py -a \"Life is too short\"\n",
    "위와 같은 명령을 실행했을 때 메모를 추가\n",
    "\n",
    "python memo.py -v\n",
    "위와 같은 명령을 실행했을 때 작성한 메모를 출력\n",
    "\n",
    "- 필요한 기능 : 메모 추가하기, 메모 조회하기\n",
    "- 입력값 : 메모 내용, 프로그램 실행 옵션\n",
    "- 출력값 : memo.txt\n",
    "'''"
   ]
  },
  {
   "cell_type": "code",
   "execution_count": null,
   "metadata": {},
   "outputs": [],
   "source": [
    "# memo.py"
   ]
  },
  {
   "cell_type": "code",
   "execution_count": null,
   "metadata": {},
   "outputs": [],
   "source": []
  }
 ],
 "metadata": {
  "kernelspec": {
   "display_name": "Python 3",
   "language": "python",
   "name": "python3"
  },
  "language_info": {
   "codemirror_mode": {
    "name": "ipython",
    "version": 3
   },
   "file_extension": ".py",
   "mimetype": "text/x-python",
   "name": "python",
   "nbconvert_exporter": "python",
   "pygments_lexer": "ipython3",
   "version": "3.7.4"
  }
 },
 "nbformat": 4,
 "nbformat_minor": 2
}
