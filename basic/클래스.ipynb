{
 "cells": [
  {
   "cell_type": "code",
   "execution_count": 1,
   "metadata": {},
   "outputs": [],
   "source": [
    "class Calculator :\n",
    "    def __init__(self) :\n",
    "        self.result = 0\n",
    "        \n",
    "    def adder(self, num) :\n",
    "        self.result += num\n",
    "        return self.result"
   ]
  },
  {
   "cell_type": "code",
   "execution_count": 2,
   "metadata": {},
   "outputs": [],
   "source": [
    "cal1 = Calculator()\n",
    "cal2 = Calculator()"
   ]
  },
  {
   "cell_type": "code",
   "execution_count": 3,
   "metadata": {},
   "outputs": [
    {
     "name": "stdout",
     "output_type": "stream",
     "text": [
      "3\n",
      "7\n",
      "3\n",
      "10\n"
     ]
    }
   ],
   "source": [
    "print(cal1.adder(3))\n",
    "print(cal1.adder(4))\n",
    "print(cal2.adder(3))\n",
    "print(cal2.adder(7))"
   ]
  },
  {
   "cell_type": "code",
   "execution_count": null,
   "metadata": {},
   "outputs": [],
   "source": []
  },
  {
   "cell_type": "code",
   "execution_count": 14,
   "metadata": {},
   "outputs": [],
   "source": [
    "class FourCal :\n",
    "    def __init__(self, n1, n2) :\n",
    "        self.n1 = n1\n",
    "        self.n2 = n2\n",
    "        \n",
    "    def sum(self) :\n",
    "        return self.n1 + self.n2\n",
    "    \n",
    "    def mul(self) :\n",
    "        return self.n1 * self.n2\n",
    "    \n",
    "    def sub(self) :\n",
    "        return self.n1 - self.n2\n",
    "    \n",
    "    def div(self) :\n",
    "        return self.n1 / self.n2"
   ]
  },
  {
   "cell_type": "code",
   "execution_count": 15,
   "metadata": {},
   "outputs": [
    {
     "name": "stdout",
     "output_type": "stream",
     "text": [
      "<class '__main__.FourCal'>\n",
      "6\n",
      "8\n",
      "2\n",
      "2.0\n"
     ]
    }
   ],
   "source": [
    "a = FourCal(4, 2)\n",
    "print(type(a))\n",
    "\n",
    "print(a.sum())\n",
    "print(a.mul())\n",
    "print(a.sub())\n",
    "print(a.div())"
   ]
  },
  {
   "cell_type": "code",
   "execution_count": null,
   "metadata": {},
   "outputs": [],
   "source": []
  },
  {
   "cell_type": "code",
   "execution_count": 3,
   "metadata": {},
   "outputs": [],
   "source": [
    "class HousePark :\n",
    "    def __init__(self, name) :\n",
    "        self.lastname = '박'\n",
    "        self.fullname = self.lastname + name\n",
    "    \n",
    "    def travel(self, place) :\n",
    "        print('%s, %s여행을 가다.' % (self.fullname, place))"
   ]
  },
  {
   "cell_type": "code",
   "execution_count": 5,
   "metadata": {},
   "outputs": [
    {
     "name": "stdout",
     "output_type": "stream",
     "text": [
      "박응용, 태국여행을 가다.\n"
     ]
    }
   ],
   "source": [
    "pey = HousePark('응용')\n",
    "pey.travel('태국')"
   ]
  },
  {
   "cell_type": "code",
   "execution_count": null,
   "metadata": {},
   "outputs": [],
   "source": []
  },
  {
   "cell_type": "markdown",
   "metadata": {},
   "source": [
    "### 클래스의 상속"
   ]
  },
  {
   "cell_type": "code",
   "execution_count": 11,
   "metadata": {},
   "outputs": [],
   "source": [
    "class HouseKim(HousePark) :\n",
    "        def __init__(self, name) :\n",
    "            self.lastname = '김'\n",
    "            self.fullname = self.lastname + name"
   ]
  },
  {
   "cell_type": "code",
   "execution_count": 12,
   "metadata": {},
   "outputs": [
    {
     "name": "stdout",
     "output_type": "stream",
     "text": [
      "김줄리엣, 독도여행을 가다.\n"
     ]
    }
   ],
   "source": [
    "juliet = HouseKim('줄리엣')\n",
    "juliet.travel('독도')"
   ]
  },
  {
   "cell_type": "code",
   "execution_count": null,
   "metadata": {},
   "outputs": [],
   "source": []
  },
  {
   "cell_type": "markdown",
   "metadata": {},
   "source": [
    "#### 메서드 오버라이딩"
   ]
  },
  {
   "cell_type": "code",
   "execution_count": 13,
   "metadata": {},
   "outputs": [],
   "source": [
    "# 상속받을 대상인 클래스의 메서드와 이름은 같지만\n",
    "# 그 행동을 다르게 해야할 때\n",
    "# 즉, 메서드 이름을 동일하게 다시 구현하는 것\n",
    "\n",
    "class HouseKim(HousePark) :\n",
    "        def __init__(self, name) :\n",
    "            self.lastname = '김'\n",
    "            self.fullname = self.lastname + name\n",
    "            \n",
    "        def travel(self, place, day) :\n",
    "            print('%s, %s여행 %d일 가네.' % (self.fullname, place, day))"
   ]
  },
  {
   "cell_type": "code",
   "execution_count": 14,
   "metadata": {},
   "outputs": [
    {
     "name": "stdout",
     "output_type": "stream",
     "text": [
      "김줄리엣, 독도여행 3일 가네.\n"
     ]
    }
   ],
   "source": [
    "juliet = HouseKim('줄리엣')\n",
    "juliet.travel('독도', 3)"
   ]
  },
  {
   "cell_type": "code",
   "execution_count": null,
   "metadata": {},
   "outputs": [],
   "source": []
  },
  {
   "cell_type": "markdown",
   "metadata": {},
   "source": [
    "### 연산자 오버로딩"
   ]
  },
  {
   "cell_type": "code",
   "execution_count": null,
   "metadata": {},
   "outputs": [],
   "source": [
    "# 실행 예시\n",
    "'''\n",
    "pey = HousePark('응용')\n",
    "juliet = HouseKim('줄리엣')\n",
    "pey + juliet\n",
    "\n",
    "> 박응용, 김줄리엣 결혼했네\n",
    "'''"
   ]
  },
  {
   "cell_type": "code",
   "execution_count": 15,
   "metadata": {},
   "outputs": [],
   "source": [
    "class HousePark :\n",
    "    def __init__(self, name) :\n",
    "        self.lastname = '박'\n",
    "        self.fullname = self.lastname + name\n",
    "    \n",
    "    def travel(self, place) :\n",
    "        print('%s, %s여행을 가다.' % (self.fullname, place))\n",
    "        \n",
    "    def love(self, other) :\n",
    "        print('%s, %s 사랑에 빠졌네' % (self.fullname, other.fullname))\n",
    "    \n",
    "    # 연산자 오버로딩 사용\n",
    "    # 객체끼리 더하기\n",
    "    def __add__(self, other) :\n",
    "        print('%s, %s 결혼했네' % (self.fullname, other.fullname))\n",
    "        \n",
    "class HouseKim(HousePark) :\n",
    "        def __init__(self, name) :\n",
    "            self.lastname = '김'\n",
    "            self.fullname = self.lastname + name\n",
    "            \n",
    "        def travel(self, place, day) :\n",
    "            print('%s, %s여행 %d일 가네.' % (self.fullname, place, day))"
   ]
  },
  {
   "cell_type": "code",
   "execution_count": 17,
   "metadata": {},
   "outputs": [
    {
     "name": "stdout",
     "output_type": "stream",
     "text": [
      "박응용, 김줄리엣 사랑에 빠졌네\n",
      "박응용, 김줄리엣 결혼했네\n"
     ]
    }
   ],
   "source": [
    "pey = HousePark('응용')\n",
    "juliet = HouseKim('줄리엣')\n",
    "pey.love(juliet)\n",
    "# 연산자를 객체에 사용하면 __add__ 함수 호출\n",
    "pey+juliet"
   ]
  },
  {
   "cell_type": "code",
   "execution_count": null,
   "metadata": {},
   "outputs": [],
   "source": []
  },
  {
   "cell_type": "code",
   "execution_count": null,
   "metadata": {},
   "outputs": [],
   "source": [
    "### '박씨네 집' 클래스 완성하기"
   ]
  },
  {
   "cell_type": "code",
   "execution_count": null,
   "metadata": {},
   "outputs": [],
   "source": [
    "# 실행 예시\n",
    "'''\n",
    "pey = HousePark('응용')\n",
    "juliet = HouseKim('줄리엣')\n",
    "pey.travel('부산')\n",
    "juliet.travel('부산', 3)\n",
    "pey.love(juliet)\n",
    "pey+juliet\n",
    "pey.fight(juliet)\n",
    "pey-juliet\n",
    "\n",
    "> 박응용 부산여행을 가다.\n",
    "> 김줄리엣 부산여행 3일 가네.\n",
    "> 박응용, 김줄리엣 사랑에 빠졌네.\n",
    "> 박응용, 김줄리엣 결혼했네.\n",
    "> 박응용, 김줄리엣 싸우네.\n",
    "> 박응용, 김줄리엣 이혼했네.\n",
    "'''"
   ]
  },
  {
   "cell_type": "code",
   "execution_count": 18,
   "metadata": {},
   "outputs": [],
   "source": [
    "class HousePark :\n",
    "    def __init__(self, name) :\n",
    "        self.lastname = '박'\n",
    "        self.fullname = self.lastname + name\n",
    "        \n",
    "    def travel(self, place) :\n",
    "        print('%s %s여행을 가다.' % (self.fullname, place))\n",
    "        \n",
    "    def love(self, other) :\n",
    "        print('%s, %s 사랑에 빠졌네.' % (self.fullname, other.fullname))\n",
    "        \n",
    "    def fight(self, other) :\n",
    "        print('%s, %s 싸우네.' % (self.fullname, other.fullname))\n",
    "    \n",
    "    def __add__(self, other) :\n",
    "        print('%s, %s 결혼했네.' % (self.fullname, other.fullname))\n",
    "\n",
    "    def __sub__(self, other) :\n",
    "        print('%s, %s 이혼했네.' % (self.fullname, other.fullname))\n",
    "        \n",
    "class HouseKim(HousePark) :\n",
    "    def __init__(self, name) :\n",
    "        self.lastname = '김'\n",
    "        self.fullname = self.lastname + name\n",
    "        \n",
    "    def travel(self, place, day) :\n",
    "        print('%s %s여행 %d일 가네.' % (self.fullname, place, day))"
   ]
  },
  {
   "cell_type": "code",
   "execution_count": 19,
   "metadata": {},
   "outputs": [
    {
     "name": "stdout",
     "output_type": "stream",
     "text": [
      "박응용 부산여행을 가다.\n",
      "김줄리엣 부산여행 3일 가네.\n",
      "박응용, 김줄리엣 사랑에 빠졌네.\n",
      "박응용, 김줄리엣 결혼했네.\n",
      "박응용, 김줄리엣 싸우네.\n",
      "박응용, 김줄리엣 이혼했네.\n"
     ]
    }
   ],
   "source": [
    "pey = HousePark('응용')\n",
    "juliet = HouseKim('줄리엣')\n",
    "pey.travel('부산')\n",
    "juliet.travel('부산', 3)\n",
    "pey.love(juliet)\n",
    "pey+juliet\n",
    "pey.fight(juliet)\n",
    "pey-juliet"
   ]
  },
  {
   "cell_type": "code",
   "execution_count": null,
   "metadata": {},
   "outputs": [],
   "source": []
  },
  {
   "cell_type": "code",
   "execution_count": null,
   "metadata": {},
   "outputs": [],
   "source": []
  }
 ],
 "metadata": {
  "kernelspec": {
   "display_name": "Python 3",
   "language": "python",
   "name": "python3"
  },
  "language_info": {
   "codemirror_mode": {
    "name": "ipython",
    "version": 3
   },
   "file_extension": ".py",
   "mimetype": "text/x-python",
   "name": "python",
   "nbconvert_exporter": "python",
   "pygments_lexer": "ipython3",
   "version": "3.7.4"
  }
 },
 "nbformat": 4,
 "nbformat_minor": 2
}
