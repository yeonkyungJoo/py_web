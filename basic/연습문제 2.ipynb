{
 "cells": [
  {
   "cell_type": "markdown",
   "metadata": {},
   "source": [
    "### if문"
   ]
  },
  {
   "cell_type": "code",
   "execution_count": 1,
   "metadata": {},
   "outputs": [
    {
     "name": "stdout",
     "output_type": "stream",
     "text": [
      "shirt\n"
     ]
    }
   ],
   "source": [
    "# Q1\n",
    "= 'Life is too short, you need python'\n",
    "\n",
    "if 'wife' in a :\n",
    "    print('wife')\n",
    "elif 'python' in a and 'you' not in a :\n",
    "    print('python')\n",
    "elif 'shirt' not in a :\n",
    "    print('shirt')\n",
    "elif 'need' in a :\n",
    "    print('need')\n",
    "else :\n",
    "    print('none')"
   ]
  },
  {
   "cell_type": "markdown",
   "metadata": {},
   "source": [
    "### while문"
   ]
  },
  {
   "cell_type": "code",
   "execution_count": 6,
   "metadata": {},
   "outputs": [
    {
     "name": "stdout",
     "output_type": "stream",
     "text": [
      "*\n",
      "**\n",
      "***\n",
      "****\n",
      "*****\n"
     ]
    }
   ],
   "source": [
    "# Q2\n",
    "i = 0 \n",
    "while True :\n",
    "    i += 1\n",
    "    print('*'*i)\n",
    "    if i >= 5 :\n",
    "        break"
   ]
  },
  {
   "cell_type": "markdown",
   "metadata": {},
   "source": [
    "### for문"
   ]
  },
  {
   "cell_type": "code",
   "execution_count": 4,
   "metadata": {},
   "outputs": [
    {
     "name": "stdout",
     "output_type": "stream",
     "text": [
      "79.0\n"
     ]
    }
   ],
   "source": [
    "# Q3\n",
    "A = [70, 60, 55, 75, 95, 90, 80, 80, 85, 100]\n",
    "total = 0\n",
    "for score in A : \n",
    "    total += score\n",
    "average = total / len(A)\n",
    "print(average)"
   ]
  },
  {
   "cell_type": "code",
   "execution_count": null,
   "metadata": {},
   "outputs": [],
   "source": []
  },
  {
   "cell_type": "code",
   "execution_count": null,
   "metadata": {},
   "outputs": [],
   "source": []
  }
 ],
 "metadata": {
  "kernelspec": {
   "display_name": "Python 3",
   "language": "python",
   "name": "python3"
  },
  "language_info": {
   "codemirror_mode": {
    "name": "ipython",
    "version": 3
   },
   "file_extension": ".py",
   "mimetype": "text/x-python",
   "name": "python",
   "nbconvert_exporter": "python",
   "pygments_lexer": "ipython3",
   "version": "3.7.4"
  }
 },
 "nbformat": 4,
 "nbformat_minor": 2
}
