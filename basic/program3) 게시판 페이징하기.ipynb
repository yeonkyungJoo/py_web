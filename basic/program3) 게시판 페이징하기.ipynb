{
 "cells": [
  {
   "cell_type": "code",
   "execution_count": null,
   "metadata": {},
   "outputs": [],
   "source": [
    "'''\n",
    "게시물의 총 건수와 한 페이지에 보여줄 게시물 수를 입력으로 주었을 때\n",
    "총 페이지수를 출력하는 프로그램\n",
    "\n",
    "- 함수 이름 : getTotalPage\n",
    "- 입력값 : 게시물의 총 건수(m), 한 페이지에 보여줄 게시물 수(n)\n",
    "- 출력값 : 총 페이지 수\n",
    "'''"
   ]
  },
  {
   "cell_type": "code",
   "execution_count": 3,
   "metadata": {},
   "outputs": [],
   "source": [
    "def getTotalPage(m, n) :\n",
    "    if m % n == 0 :\n",
    "        return m // n \n",
    "    return (m // n) + 1"
   ]
  },
  {
   "cell_type": "code",
   "execution_count": 4,
   "metadata": {},
   "outputs": [
    {
     "name": "stdout",
     "output_type": "stream",
     "text": [
      "1\n",
      "2\n",
      "3\n",
      "3\n"
     ]
    }
   ],
   "source": [
    "print(getTotalPage(5, 10))\n",
    "print(getTotalPage(15, 10))\n",
    "print(getTotalPage(25, 10))\n",
    "print(getTotalPage(30, 10))"
   ]
  },
  {
   "cell_type": "code",
   "execution_count": null,
   "metadata": {},
   "outputs": [],
   "source": []
  }
 ],
 "metadata": {
  "kernelspec": {
   "display_name": "Python 3",
   "language": "python",
   "name": "python3"
  },
  "language_info": {
   "codemirror_mode": {
    "name": "ipython",
    "version": 3
   },
   "file_extension": ".py",
   "mimetype": "text/x-python",
   "name": "python",
   "nbconvert_exporter": "python",
   "pygments_lexer": "ipython3",
   "version": "3.7.4"
  }
 },
 "nbformat": 4,
 "nbformat_minor": 2
}
