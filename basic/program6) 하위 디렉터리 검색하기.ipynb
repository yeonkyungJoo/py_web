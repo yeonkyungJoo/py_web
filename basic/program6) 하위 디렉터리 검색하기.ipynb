{
 "cells": [
  {
   "cell_type": "code",
   "execution_count": 19,
   "metadata": {},
   "outputs": [
    {
     "name": "stdout",
     "output_type": "stream",
     "text": [
      "C:/study/git/py_web/basic\\calculator.py\n",
      "C:/study/git/py_web/basic\\game\\graphic\\render.py\n",
      "C:/study/git/py_web/basic\\game\\graphic\\screen.py\n",
      "C:/study/git/py_web/basic\\game\\graphic\\__init__.py\n",
      "C:/study/git/py_web/basic\\game\\play\\run.py\n",
      "C:/study/git/py_web/basic\\game\\play\\test.py\n",
      "C:/study/git/py_web/basic\\game\\play\\__init__.py\n",
      "C:/study/git/py_web/basic\\game\\sound\\echo.py\n",
      "C:/study/git/py_web/basic\\game\\sound\\wav.py\n",
      "C:/study/git/py_web/basic\\game\\sound\\__init__.py\n",
      "C:/study/git/py_web/basic\\game\\__init__.py\n",
      "C:/study/git/py_web/basic\\memo.py\n",
      "C:/study/git/py_web/basic\\mod1.py\n",
      "C:/study/git/py_web/basic\\mod2.py\n",
      "C:/study/git/py_web/basic\\modtest.py\n",
      "C:/study/git/py_web/basic\\tabto4.py\n",
      "C:/study/git/py_web/PYTHON_BASIC\\pkg\\calculations.py\n",
      "C:/study/git/py_web/PYTHON_BASIC\\pkg\\fibonacci.py\n",
      "C:/study/git/py_web/PYTHON_BASIC\\pkg\\prints.py\n",
      "C:/study/git/py_web/PYTHON_BASIC\\pkg\\__init__.py\n",
      "C:/study/git/py_web/PYTHON_BASIC\\section11.py\n",
      "C:/study/git/py_web/PYTHON_BASIC\\section13-1.py\n",
      "C:/study/git/py_web/PYTHON_BASIC\\section13-2.py\n"
     ]
    }
   ],
   "source": [
    "import os\n",
    "\n",
    "# dirname = 'C:/study/git/py_web/basic'\n",
    "# filenames = os.listdir(dirname)\n",
    "# for filename in filenames :\n",
    "#     full_filename = os.path.join(dirname, filename)\n",
    "#     print(full_filename)\n",
    "\n",
    "# os.listdir : 해당 디렉터리에 있는 파일들의 리스트를 구하는 함수\n",
    "# os.path.join : 디렉터리와 파일명을 이어주는 함수\n",
    "def search(dirname) :\n",
    "    try : \n",
    "        filenames = os.listdir(dirname)\n",
    "        for filename in filenames :\n",
    "            # os.path.splitext : 파일명을 확장자를 기준으로 두 부분으로 나누어 준다\n",
    "            full_filename = os.path.join(dirname, filename)\n",
    "            # print(os.path.splitext(full_filename))\n",
    "            \n",
    "            if os.path.isdir(full_filename) :\n",
    "                # 재귀 호출\n",
    "                search(full_filename)\n",
    "            else :\n",
    "                ext = os.path.splitext(full_filename)[-1]\n",
    "                if ext == '.py' :\n",
    "                    print(full_filename)\n",
    "        #         if filename.split('.')[-1] == 'py' : \n",
    "        #             full_filename = os.path.join(dirname, filename)\n",
    "        #             print(full_filename)\n",
    "    except PermissionError :\n",
    "        pass\n",
    "        \n",
    "search('C:/study/git/py_web/')"
   ]
  },
  {
   "cell_type": "code",
   "execution_count": 25,
   "metadata": {},
   "outputs": [
    {
     "name": "stdout",
     "output_type": "stream",
     "text": [
      "C:/study/git/py_web/basic/calculator.py\n",
      "C:/study/git/py_web/basic/memo.py\n",
      "C:/study/git/py_web/basic/mod1.py\n",
      "C:/study/git/py_web/basic/mod2.py\n",
      "C:/study/git/py_web/basic/modtest.py\n",
      "C:/study/git/py_web/basic/tabto4.py\n",
      "C:/study/git/py_web/basic\\game/__init__.py\n",
      "C:/study/git/py_web/basic\\game\\graphic/render.py\n",
      "C:/study/git/py_web/basic\\game\\graphic/screen.py\n",
      "C:/study/git/py_web/basic\\game\\graphic/__init__.py\n",
      "C:/study/git/py_web/basic\\game\\play/run.py\n",
      "C:/study/git/py_web/basic\\game\\play/test.py\n",
      "C:/study/git/py_web/basic\\game\\play/__init__.py\n",
      "C:/study/git/py_web/basic\\game\\sound/echo.py\n",
      "C:/study/git/py_web/basic\\game\\sound/wav.py\n",
      "C:/study/git/py_web/basic\\game\\sound/__init__.py\n",
      "C:/study/git/py_web/PYTHON_BASIC/section11.py\n",
      "C:/study/git/py_web/PYTHON_BASIC/section13-1.py\n",
      "C:/study/git/py_web/PYTHON_BASIC/section13-2.py\n",
      "C:/study/git/py_web/PYTHON_BASIC\\pkg/calculations.py\n",
      "C:/study/git/py_web/PYTHON_BASIC\\pkg/fibonacci.py\n",
      "C:/study/git/py_web/PYTHON_BASIC\\pkg/prints.py\n",
      "C:/study/git/py_web/PYTHON_BASIC\\pkg/__init__.py\n"
     ]
    }
   ],
   "source": [
    "import os\n",
    "\n",
    "# os.walk : 시작 디렉터리부터 시작하여 \n",
    "# 그 하위의 모든 디렉터리를 차례대로 방문하게 해주는 함수\n",
    "for (path, dir, files) in os.walk('C:/study/git/py_web/') :\n",
    "    # print(path)\n",
    "    # print(dir)\n",
    "    # print(files)\n",
    "    for filename in files :\n",
    "        ext = os.path.splitext(filename)[-1]\n",
    "        if ext == '.py' :\n",
    "            print('%s/%s' % (path, filename))"
   ]
  },
  {
   "cell_type": "code",
   "execution_count": null,
   "metadata": {},
   "outputs": [],
   "source": []
  }
 ],
 "metadata": {
  "kernelspec": {
   "display_name": "Python 3",
   "language": "python",
   "name": "python3"
  },
  "language_info": {
   "codemirror_mode": {
    "name": "ipython",
    "version": 3
   },
   "file_extension": ".py",
   "mimetype": "text/x-python",
   "name": "python",
   "nbconvert_exporter": "python",
   "pygments_lexer": "ipython3",
   "version": "3.7.4"
  }
 },
 "nbformat": 4,
 "nbformat_minor": 2
}
