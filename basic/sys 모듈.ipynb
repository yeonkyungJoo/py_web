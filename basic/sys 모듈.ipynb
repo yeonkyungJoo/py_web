{
 "cells": [
  {
   "cell_type": "code",
   "execution_count": 2,
   "metadata": {},
   "outputs": [
    {
     "name": "stdout",
     "output_type": "stream",
     "text": [
      "['-f', 'C:\\\\Users\\\\samsung\\\\AppData\\\\Roaming\\\\jupyter\\\\runtime\\\\kernel-5badc36d-4642-45df-ae33-7ee2fab5cde0.json']\n",
      "-f\n",
      "C:\\Users\\samsung\\AppData\\Roaming\\jupyter\\runtime\\kernel-5badc36d-4642-45df-ae33-7ee2fab5cde0.json\n"
     ]
    }
   ],
   "source": [
    "# 파이썬에서는 sys라는 모듈을 이용하여\n",
    "# 입력 인수를 직접 줄 수 있다\n",
    "\n",
    "import sys\n",
    "\n",
    "args = sys.argv[1:]\n",
    "print(args)\n",
    "for i in args :\n",
    "    print(i)"
   ]
  },
  {
   "cell_type": "code",
   "execution_count": null,
   "metadata": {},
   "outputs": [],
   "source": []
  }
 ],
 "metadata": {
  "kernelspec": {
   "display_name": "Python 3",
   "language": "python",
   "name": "python3"
  },
  "language_info": {
   "codemirror_mode": {
    "name": "ipython",
    "version": 3
   },
   "file_extension": ".py",
   "mimetype": "text/x-python",
   "name": "python",
   "nbconvert_exporter": "python",
   "pygments_lexer": "ipython3",
   "version": "3.7.4"
  }
 },
 "nbformat": 4,
 "nbformat_minor": 2
}
