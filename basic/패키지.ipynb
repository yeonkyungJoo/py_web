{
 "cells": [
  {
   "cell_type": "code",
   "execution_count": null,
   "metadata": {},
   "outputs": [],
   "source": [
    "# 도트(.)를 이용하여 파이썬 모듈을 계층적(디렉터리 구조)으로 관리할 수 있게 해준다\n",
    "# 모듈명이 A.B인 경우 A는 패키지명이고 B는 A 패키지의 B 모듈이 된다"
   ]
  },
  {
   "cell_type": "code",
   "execution_count": null,
   "metadata": {},
   "outputs": [],
   "source": [
    "# 파이썬 패키지 = 디렉터리 + 파이썬 모듈\n",
    "\n",
    "'''\n",
    "game/\n",
    "    __init__.py\n",
    "    \n",
    "    sound/\n",
    "        __init__.py\n",
    "        echo.py\n",
    "        wav.py\n",
    "        \n",
    "    graphic/\n",
    "        __init__.py\n",
    "        screen.py\n",
    "        render.py\n",
    "        \n",
    "    play/\n",
    "        __init__.py\n",
    "        run.py\n",
    "        test.py\n",
    "'''\n",
    "\n",
    "# game(루트), sound, graphic, play : 디렉터리명\n",
    "# .py 확장자를 가지는 파일은 파이썬 모듈"
   ]
  },
  {
   "cell_type": "code",
   "execution_count": 7,
   "metadata": {},
   "outputs": [
    {
     "name": "stdout",
     "output_type": "stream",
     "text": [
      "12\n",
      "['C:\\\\study\\\\git\\\\py_web\\\\basic', 'C:\\\\Python\\\\Anaconda3\\\\python37.zip', 'C:\\\\Python\\\\Anaconda3\\\\DLLs', 'C:\\\\Python\\\\Anaconda3\\\\lib', 'C:\\\\Python\\\\Anaconda3', '', 'C:\\\\Python\\\\Anaconda3\\\\lib\\\\site-packages', 'C:\\\\Python\\\\Anaconda3\\\\lib\\\\site-packages\\\\win32', 'C:\\\\Python\\\\Anaconda3\\\\lib\\\\site-packages\\\\win32\\\\lib', 'C:\\\\Python\\\\Anaconda3\\\\lib\\\\site-packages\\\\Pythonwin', 'C:\\\\Python\\\\Anaconda3\\\\lib\\\\site-packages\\\\IPython\\\\extensions', 'C:\\\\Users\\\\samsung\\\\.ipython']\n"
     ]
    }
   ],
   "source": [
    "import sys\n",
    "print(len(sys.path))\n",
    "print(sys.path)"
   ]
  },
  {
   "cell_type": "code",
   "execution_count": null,
   "metadata": {},
   "outputs": [],
   "source": []
  },
  {
   "cell_type": "markdown",
   "metadata": {},
   "source": [
    "### __init__.py의 용도"
   ]
  },
  {
   "cell_type": "code",
   "execution_count": null,
   "metadata": {},
   "outputs": [],
   "source": [
    "# __init__.py 파일은 해당 디렉터리가 패키지의 일부임을 알려주는 역할"
   ]
  },
  {
   "cell_type": "code",
   "execution_count": null,
   "metadata": {},
   "outputs": [],
   "source": []
  },
  {
   "cell_type": "markdown",
   "metadata": {},
   "source": [
    "### __all__.py의 용도"
   ]
  },
  {
   "cell_type": "code",
   "execution_count": 1,
   "metadata": {},
   "outputs": [
    {
     "name": "stdout",
     "output_type": "stream",
     "text": [
      "echo\n"
     ]
    }
   ],
   "source": [
    "# 특정 디렉터리의 모듈을 *를 이용하여 import할 때에는\n",
    "# 해당 디렉터리의 __init__.py 파일에 __all__이라는 변수를 설정하고\n",
    "# import할 수 있는 모듈을 정의해 주어야 한다\n",
    "\n",
    "from game.sound import *\n",
    "echo.echo_test()"
   ]
  },
  {
   "cell_type": "code",
   "execution_count": null,
   "metadata": {},
   "outputs": [],
   "source": []
  },
  {
   "cell_type": "markdown",
   "metadata": {},
   "source": [
    "### relative 패키지"
   ]
  },
  {
   "cell_type": "code",
   "execution_count": 2,
   "metadata": {},
   "outputs": [
    {
     "name": "stdout",
     "output_type": "stream",
     "text": [
      "render\n",
      "echo\n"
     ]
    }
   ],
   "source": [
    "from game.graphic.render import render_test\n",
    "render_test()"
   ]
  },
  {
   "cell_type": "code",
   "execution_count": null,
   "metadata": {},
   "outputs": [],
   "source": []
  },
  {
   "cell_type": "code",
   "execution_count": null,
   "metadata": {},
   "outputs": [],
   "source": []
  }
 ],
 "metadata": {
  "kernelspec": {
   "display_name": "Python 3",
   "language": "python",
   "name": "python3"
  },
  "language_info": {
   "codemirror_mode": {
    "name": "ipython",
    "version": 3
   },
   "file_extension": ".py",
   "mimetype": "text/x-python",
   "name": "python",
   "nbconvert_exporter": "python",
   "pygments_lexer": "ipython3",
   "version": "3.7.4"
  }
 },
 "nbformat": 4,
 "nbformat_minor": 2
}
