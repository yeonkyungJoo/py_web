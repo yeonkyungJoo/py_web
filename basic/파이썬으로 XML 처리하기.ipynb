{
 "cells": [
  {
   "cell_type": "code",
   "execution_count": null,
   "metadata": {},
   "outputs": [],
   "source": [
    "# ElementTree"
   ]
  },
  {
   "cell_type": "code",
   "execution_count": 1,
   "metadata": {},
   "outputs": [
    {
     "name": "stdout",
     "output_type": "stream",
     "text": [
      "<note><to>Tove</to></note>\n"
     ]
    }
   ],
   "source": [
    "from xml.etree.ElementTree import Element, dump\n",
    "\n",
    "note = Element('note')\n",
    "to = Element('to')\n",
    "to.text = 'Tove'\n",
    "\n",
    "note.append(to)\n",
    "\n",
    "dump(note)"
   ]
  },
  {
   "cell_type": "code",
   "execution_count": 5,
   "metadata": {},
   "outputs": [
    {
     "name": "stdout",
     "output_type": "stream",
     "text": [
      "<note><to>Tove</to><from>Jani</from></note>\n"
     ]
    }
   ],
   "source": [
    "from xml.etree.ElementTree import Element, SubElement, dump\n",
    "\n",
    "note = Element('note')\n",
    "to = Element('to')\n",
    "to.text = 'Tove'\n",
    "\n",
    "note.append(to)\n",
    "SubElement(note, 'from').text = 'Jani'\n",
    "\n",
    "dummy = Element('dummy')\n",
    "note.insert(1, dummy)\n",
    "note.remove(dummy)\n",
    "\n",
    "dump(note)"
   ]
  },
  {
   "cell_type": "code",
   "execution_count": 9,
   "metadata": {},
   "outputs": [
    {
     "name": "stdout",
     "output_type": "stream",
     "text": [
      "<note date=\"20120104\"><to>Tove</to><from>Jani</from></note>\n"
     ]
    }
   ],
   "source": [
    "from xml.etree.ElementTree import Element, SubElement, dump\n",
    "\n",
    "note = Element('note', date = '20120104')\n",
    "to = Element('to')\n",
    "to.text = 'Tove'\n",
    "\n",
    "note.append(to)\n",
    "SubElement(note, 'from').text = 'Jani'\n",
    "# note.attrib['date'] = '20120104'\n",
    "\n",
    "dump(note)"
   ]
  },
  {
   "cell_type": "code",
   "execution_count": null,
   "metadata": {},
   "outputs": [],
   "source": [
    "'''\n",
    "<note date='20151231'>\n",
    "    <to>Tove</to>\n",
    "    <from>Jani</from>\n",
    "    <heading>Reminder</heading>\n",
    "    <body>Don't forget me this weekend!</body>\n",
    "</note>\n",
    "'''"
   ]
  },
  {
   "cell_type": "code",
   "execution_count": 14,
   "metadata": {},
   "outputs": [
    {
     "name": "stdout",
     "output_type": "stream",
     "text": [
      "<note date=\"20151231\">\n",
      " <to>Tove</to>\n",
      " <from>Jani</from>\n",
      " <heading>Reminder</heading>\n",
      " <body>Don't forget me this weekend!</body>\n",
      "</note>\n"
     ]
    }
   ],
   "source": [
    "from xml.etree.ElementTree import Element, SubElement, dump\n",
    "\n",
    "note = Element('note', date = '20151231')\n",
    "# to = Element('to')\n",
    "# to.text = 'Tove'\n",
    "\n",
    "# note.append(to)\n",
    "SubElement(note, 'to').text = 'Tove'\n",
    "SubElement(note, 'from').text = 'Jani'\n",
    "SubElement(note, 'heading').text = 'Reminder'\n",
    "SubElement(note, 'body').text = \"Don't forget me this weekend!\"\n",
    "\n",
    "\n",
    "\n",
    "def indent(elem, level = 0) :\n",
    "    i = \"\\n\" + level * \" \"\n",
    "    if len(elem) :\n",
    "        if not elem.text or not elem.text.strip() :\n",
    "            elem.text = i + \" \"\n",
    "        if not elem.tail or not elem.tail.strip() :\n",
    "            elem.tail = i\n",
    "        for elem in elem :\n",
    "            indent(elem, level+1)\n",
    "        if not elem.tail or not elem.tail.strip() :\n",
    "            elem.tail = i\n",
    "            \n",
    "    else :\n",
    "        if level and (not elem.tail or not elem.tail.strip()) :\n",
    "            elem.tail = i\n",
    "    \n",
    "\n",
    "indent(note)\n",
    "dump(note)"
   ]
  },
  {
   "cell_type": "code",
   "execution_count": 20,
   "metadata": {},
   "outputs": [
    {
     "data": {
      "text/plain": [
       "('\\n', '\\n ')"
      ]
     },
     "execution_count": 20,
     "metadata": {},
     "output_type": "execute_result"
    }
   ],
   "source": [
    "\"\\n\" + 0 * \" \", \"\\n\" + 1 * \" \""
   ]
  },
  {
   "cell_type": "code",
   "execution_count": 22,
   "metadata": {},
   "outputs": [
    {
     "data": {
      "text/plain": [
       "('\\n ', '')"
      ]
     },
     "execution_count": 22,
     "metadata": {},
     "output_type": "execute_result"
    }
   ],
   "source": [
    "note.text, note.text.strip()"
   ]
  },
  {
   "cell_type": "code",
   "execution_count": 23,
   "metadata": {},
   "outputs": [
    {
     "data": {
      "text/plain": [
       "('\\n', '')"
      ]
     },
     "execution_count": 23,
     "metadata": {},
     "output_type": "execute_result"
    }
   ],
   "source": [
    "note.tail, note.tail.strip()"
   ]
  }
 ],
 "metadata": {
  "kernelspec": {
   "display_name": "Python 3",
   "language": "python",
   "name": "python3"
  },
  "language_info": {
   "codemirror_mode": {
    "name": "ipython",
    "version": 3
   },
   "file_extension": ".py",
   "mimetype": "text/x-python",
   "name": "python",
   "nbconvert_exporter": "python",
   "pygments_lexer": "ipython3",
   "version": "3.7.4"
  }
 },
 "nbformat": 4,
 "nbformat_minor": 2
}
