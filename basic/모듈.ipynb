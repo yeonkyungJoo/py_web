{
 "cells": [
  {
   "cell_type": "code",
   "execution_count": null,
   "metadata": {},
   "outputs": [],
   "source": [
    "# 모듈 : 함수나 변수 또는 클래스들을 모아 놓은 파일"
   ]
  },
  {
   "cell_type": "code",
   "execution_count": 2,
   "metadata": {},
   "outputs": [
    {
     "name": "stdout",
     "output_type": "stream",
     "text": [
      "7\n"
     ]
    }
   ],
   "source": [
    "# import : 이미 만들어진 파이썬 모듈을 사용할 수 있게 해주는 명령어\n",
    "# import 모듈이름\n",
    "# import는 현재 디렉터리에 있는 파일이나 파이썬 라이브러리가 저장된 디렉터리에 있는 모듈만 불러올 수 있다\n",
    "\n",
    "import mod1\n",
    "print(mod1.sum(3, 4))"
   ]
  },
  {
   "cell_type": "code",
   "execution_count": 3,
   "metadata": {},
   "outputs": [
    {
     "name": "stdout",
     "output_type": "stream",
     "text": [
      "6\n",
      "더할 수 있는 것이 아닙니다.\n",
      "None\n"
     ]
    }
   ],
   "source": [
    "import mod1\n",
    "print(mod1.safe_sum(2, 4))\n",
    "print(mod1.safe_sum(1, 'a'))"
   ]
  },
  {
   "cell_type": "code",
   "execution_count": 4,
   "metadata": {},
   "outputs": [
    {
     "name": "stdout",
     "output_type": "stream",
     "text": [
      "6\n"
     ]
    }
   ],
   "source": [
    "from mod1 import safe_sum\n",
    "print(safe_sum(2, 4))"
   ]
  },
  {
   "cell_type": "code",
   "execution_count": null,
   "metadata": {},
   "outputs": [],
   "source": []
  },
  {
   "cell_type": "code",
   "execution_count": 1,
   "metadata": {},
   "outputs": [
    {
     "name": "stdout",
     "output_type": "stream",
     "text": [
      "3.141592\n",
      "12.566368\n",
      "7.5415920000000005\n"
     ]
    }
   ],
   "source": [
    "import mod2\n",
    "print(mod2.PI)\n",
    "\n",
    "a = mod2.Math()\n",
    "print(a.solv(2))\n",
    "\n",
    "print(mod2.sum(mod2.PI, 4.4))"
   ]
  },
  {
   "cell_type": "code",
   "execution_count": null,
   "metadata": {},
   "outputs": [],
   "source": []
  },
  {
   "cell_type": "code",
   "execution_count": 6,
   "metadata": {},
   "outputs": [
    {
     "data": {
      "text/plain": [
       "(12,\n",
       " ['C:\\\\study\\\\git\\\\py_web\\\\basic',\n",
       "  'C:\\\\Python\\\\Anaconda3\\\\python37.zip',\n",
       "  'C:\\\\Python\\\\Anaconda3\\\\DLLs',\n",
       "  'C:\\\\Python\\\\Anaconda3\\\\lib',\n",
       "  'C:\\\\Python\\\\Anaconda3',\n",
       "  '',\n",
       "  'C:\\\\Python\\\\Anaconda3\\\\lib\\\\site-packages',\n",
       "  'C:\\\\Python\\\\Anaconda3\\\\lib\\\\site-packages\\\\win32',\n",
       "  'C:\\\\Python\\\\Anaconda3\\\\lib\\\\site-packages\\\\win32\\\\lib',\n",
       "  'C:\\\\Python\\\\Anaconda3\\\\lib\\\\site-packages\\\\Pythonwin',\n",
       "  'C:\\\\Python\\\\Anaconda3\\\\lib\\\\site-packages\\\\IPython\\\\extensions',\n",
       "  'C:\\\\Users\\\\samsung\\\\.ipython'])"
      ]
     },
     "execution_count": 6,
     "metadata": {},
     "output_type": "execute_result"
    }
   ],
   "source": [
    "import sys\n",
    "# sys : 파이썬을 설치할 때 함께 설치되는 라이브러리 모듈\n",
    "# sys.path : 파이썬 라이브러리들이 설치되어 있는 디렉터리들을 보여준다\n",
    "# 만약 파이썬 모듈이 아래 디렉터리에 들어 있다면 모듈이 저장된 디렉터리로 이동할 필요 없이 바로 불러서 사용할 수 있다\n",
    "len(sys.path), sys.path\n",
    "# sys.path.append() ← 리스트의 append 함수 사용\n",
    "# (set 도스 명령어 이용) set PYTHONPATH = "
   ]
  },
  {
   "cell_type": "code",
   "execution_count": null,
   "metadata": {},
   "outputs": [],
   "source": []
  }
 ],
 "metadata": {
  "kernelspec": {
   "display_name": "Python 3",
   "language": "python",
   "name": "python3"
  },
  "language_info": {
   "codemirror_mode": {
    "name": "ipython",
    "version": 3
   },
   "file_extension": ".py",
   "mimetype": "text/x-python",
   "name": "python",
   "nbconvert_exporter": "python",
   "pygments_lexer": "ipython3",
   "version": "3.7.4"
  }
 },
 "nbformat": 4,
 "nbformat_minor": 2
}
