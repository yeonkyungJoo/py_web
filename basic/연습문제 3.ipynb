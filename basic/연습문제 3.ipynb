{
 "cells": [
  {
   "cell_type": "markdown",
   "metadata": {},
   "source": [
    "### 함수"
   ]
  },
  {
   "cell_type": "code",
   "execution_count": 8,
   "metadata": {},
   "outputs": [],
   "source": [
    "# Q1\n",
    "# 피보나치 수열 출력 함수\n",
    "def fib(n) :\n",
    "    if n == 0 :\n",
    "        return 0\n",
    "    if n == 1 :\n",
    "        return 1\n",
    "    return fib(n - 2) + fib(n - 1)"
   ]
  },
  {
   "cell_type": "code",
   "execution_count": 9,
   "metadata": {},
   "outputs": [
    {
     "data": {
      "text/plain": [
       "(0, 1, 1, 2, 3, 5, 8, 13, 21)"
      ]
     },
     "execution_count": 9,
     "metadata": {},
     "output_type": "execute_result"
    }
   ],
   "source": [
    "fib(0), fib(1), fib(2), fib(3), fib(4), fib(5), fib(6), fib(7), fib(8)"
   ]
  },
  {
   "cell_type": "markdown",
   "metadata": {},
   "source": [
    "### 파일 읽고 쓰기"
   ]
  },
  {
   "cell_type": "code",
   "execution_count": 10,
   "metadata": {},
   "outputs": [],
   "source": [
    "numbers = [70, 60, 55, 75, 95, 90, 80, 80, 85, 100]\n",
    "with open('sample.txt', 'w') as f :\n",
    "    for number in numbers :\n",
    "        data = '%d\\n' % number\n",
    "        f.write(data)"
   ]
  },
  {
   "cell_type": "code",
   "execution_count": 19,
   "metadata": {},
   "outputs": [
    {
     "name": "stdout",
     "output_type": "stream",
     "text": [
      "['70\\n', '60\\n', '55\\n', '75\\n', '95\\n', '90\\n', '80\\n', '80\\n', '85\\n', '100\\n']\n",
      "70\n",
      "60\n",
      "55\n",
      "75\n",
      "95\n",
      "90\n",
      "80\n",
      "80\n",
      "85\n",
      "100\n",
      "790\n",
      "79.0\n"
     ]
    }
   ],
   "source": [
    "total = 0\n",
    "avg = 0\n",
    "with open('sample.txt', 'r') as f :\n",
    "    data = f.readlines()\n",
    "    print(data)\n",
    "    for n in data :\n",
    "        print(int(n))\n",
    "        total += int(n)\n",
    "    avg = total / len(data)\n",
    "print(total)\n",
    "print(avg)\n",
    "#     while True :\n",
    "#         line = f.readline()\n",
    "#         if not line :\n",
    "#             break\n",
    "#         print(line)\n",
    "with open('result.txt', 'w') as f :\n",
    "    f.write(str(avg))"
   ]
  }
 ],
 "metadata": {
  "kernelspec": {
   "display_name": "Python 3",
   "language": "python",
   "name": "python3"
  },
  "language_info": {
   "codemirror_mode": {
    "name": "ipython",
    "version": 3
   },
   "file_extension": ".py",
   "mimetype": "text/x-python",
   "name": "python",
   "nbconvert_exporter": "python",
   "pygments_lexer": "ipython3",
   "version": "3.7.4"
  }
 },
 "nbformat": 4,
 "nbformat_minor": 2
}
