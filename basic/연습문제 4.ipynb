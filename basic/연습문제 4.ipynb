{
 "cells": [
  {
   "cell_type": "markdown",
   "metadata": {},
   "source": [
    "### 클래스"
   ]
  },
  {
   "cell_type": "code",
   "execution_count": 9,
   "metadata": {},
   "outputs": [],
   "source": [
    "# Q1\n",
    "\n",
    "class Calculator :\n",
    "    \n",
    "    def __init__(self, list) :\n",
    "        self.list = list\n",
    "        \n",
    "    def sum(self) :\n",
    "        total = 0\n",
    "        for n in self.list :\n",
    "            total += n\n",
    "        return total\n",
    "    \n",
    "    def avg(self) :\n",
    "        total = 0\n",
    "        for n in self.list :\n",
    "            total += n\n",
    "        return total / len(self.list)"
   ]
  },
  {
   "cell_type": "code",
   "execution_count": 10,
   "metadata": {},
   "outputs": [
    {
     "name": "stdout",
     "output_type": "stream",
     "text": [
      "15\n",
      "3.0\n",
      "40\n",
      "8.0\n"
     ]
    }
   ],
   "source": [
    "cal1 = Calculator([1, 2, 3, 4, 5])\n",
    "print(cal1.sum())\n",
    "print(cal1.avg())\n",
    "\n",
    "cal2 = Calculator([6, 7, 8, 9, 10])\n",
    "print(cal2.sum())\n",
    "print(cal2.avg())"
   ]
  },
  {
   "cell_type": "markdown",
   "metadata": {},
   "source": [
    "### 모듈"
   ]
  },
  {
   "cell_type": "code",
   "execution_count": 11,
   "metadata": {},
   "outputs": [
    {
     "data": {
      "text/plain": [
       "15"
      ]
     },
     "execution_count": 11,
     "metadata": {},
     "output_type": "execute_result"
    }
   ],
   "source": [
    "from calculator import Calculator\n",
    "cal1 = Calculator([1, 2, 3, 4, 5])\n",
    "cal1.sum()"
   ]
  }
 ],
 "metadata": {
  "kernelspec": {
   "display_name": "Python 3",
   "language": "python",
   "name": "python3"
  },
  "language_info": {
   "codemirror_mode": {
    "name": "ipython",
    "version": 3
   },
   "file_extension": ".py",
   "mimetype": "text/x-python",
   "name": "python",
   "nbconvert_exporter": "python",
   "pygments_lexer": "ipython3",
   "version": "3.7.4"
  }
 },
 "nbformat": 4,
 "nbformat_minor": 2
}
